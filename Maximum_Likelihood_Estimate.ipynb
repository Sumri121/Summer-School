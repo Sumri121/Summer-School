{
 "cells": [
  {
   "cell_type": "markdown",
   "metadata": {},
   "source": [
    "# Maximum Likelihood Estimate(MLE) 最大似然估计"
   ]
  },
  {
   "cell_type": "markdown",
   "metadata": {},
   "source": [
    "Name: [林心悦]\n"
   ]
  },
  {
   "cell_type": "markdown",
   "metadata": {},
   "source": [
    "<script type=\"text/javascript\" src=\"http://cdn.mathjax.org/mathjax/latest/MathJax.js?config=default\"></script><font size=4>\n",
    "\n",
    "1.设总体概率函数如下, $x_1, \\dots ,x_n$是样本, 试求未知参数的最大似然估计.\n",
    "\n",
    "(1) $p(x; \\theta)=\\sqrt{\\theta}x^{\\sqrt{\\theta}-1}, 0<x<1, \\theta>0$;\n",
    "\n",
    "(2) $p(x; \\theta)=\\theta c^{\\theta}x^{-(\\theta+1)}, x>c, c>0, \\theta>1$;\n",
    "\n",
    "\n",
    "\n",
    "\n",
    "\n",
    "</font>"
   ]
  },
  {
   "cell_type": "markdown",
   "metadata": {},
   "source": [
    "解：\n",
    "<script type=\"text/javascript\" src=\"http://cdn.mathjax.org/mathjax/latest/MathJax.js?config=default\"></script><font size=4>\n",
    "\n",
    "（1）\n",
    "\n",
    "$L(\\theta)= \\prod_{i=1}^{n}{\\sqrt{\\theta}x_i^{\\sqrt{\\theta}-1}}=\\theta^\\frac{n}{2}\\prod_{i=1}^{n}{x_i^{\\sqrt{\\theta}-1}}$\n",
    "\n",
    "$ln L(\\theta)= \\frac{n}{2}ln\\theta+(\\sqrt{\\theta}-1)\\sum_{i=1}^{n}{(ln x_i)}$\n",
    "\n",
    "令$\\frac{\\partial ln L(\\theta)}{\\theta}=\\frac{n}{2\\theta}+ \\sum_{i=1}^{n}{(ln x_i)\\centerdot  \\frac{1}{2\\sqrt{\\theta}}}=0$\n",
    "\n",
    "解得$\\hat{\\theta}=\\frac{n^2}{{-\\sum_{i=1}^{n}{ln x_i}^2}}$\n",
    "\n",
    "由于$\\frac{{\\partial}^2 ln L(\\theta)}{\\partial{\\theta}^2} = -\\frac{n}{2{\\theta}^2}-\\frac{1}{4}\\sum_{i=1}^{n}{(ln x_i)\\frac{1}{{\\theta}^{3/2}}}<0$\n",
    "\n",
    "所以，$\\hat{\\theta}$是极大值点。\n",
    "\n",
    "（2）\n",
    "\n",
    "$L(\\theta) = \\prod_{i=1}^{n}{\\theta \\centerdot c^{\\theta} \\centerdot x^{-(\\theta+1)}} = {\\theta}^n \\centerdot c^{n\\theta} \\centerdot \\prod_{i=1}^{n}{x^{-(\\theta+1)}}$\n",
    "\n",
    "$ln L(\\theta) = nln\\theta + n\\theta lnc - (\\theta + 1)\\sum_{i=1}^{n}{ln x_i}$\n",
    "\n",
    "令 $\\frac{\\partial lnL(\\theta)}{\\theta} = \\frac{n}{\\theta} + nlnc - \\sum_{i=1}^{n}{ln x_i} = 0$ \n",
    "\n",
    "解得 $\\hat{\\theta} = \\frac{n}{\\sum_{i=1}^{n}{(lnx_i)} - nlnc}$\n",
    "\n",
    "由于$\\theta>0$\n",
    "\n",
    "令 $ \\frac{n}{\\sum_{i=1}^{n}{(lnx_i)} - nlnc}>1$\n",
    "\n",
    "解得 $c<{(\\prod_{i=1}^{n}{x_i})}^{1/n}<ec$\n",
    "\n",
    "故当${(\\prod_{i=1}^{n}{x_i})}^{1/n} \\in (c,ec)$ 时，有$\\theta>1$成立\n",
    "\n",
    "由于$\\frac{{\\partial}^2 ln L(\\theta)}{\\partial{\\theta}^2} = -\\frac{n}{{\\theta}^2}<0$\n",
    "\n",
    "所以，$\\hat{\\theta}$是极大值点\n",
    "\n",
    "</font>"
   ]
  },
  {
   "cell_type": "markdown",
   "metadata": {},
   "source": [
    "<script type=\"text/javascript\" src=\"http://cdn.mathjax.org/mathjax/latest/MathJax.js?config=default\"></script><font size=4>\n",
    "\n",
    "2.假如有一个罐子, 里面有黑白两种颜色的球, 数目多少不知, 两种颜色的比例也不知. 我们想知道罐中白球和黑球的比例, 但我们不能把罐中的球全部拿出来数(球太多了, 耽误我上王者). 现在我们可以进行100次实验, 每次实验都拿出10个球, 记录下白球的数量. 假设这100次实验都相与独立的, 请问罐中白球所占的比例最有可能是多少? 实验的数据如下:\n",
    "\n",
    "\n",
    "| 拿出白球的数量 | 0 | 1 | 2 | 3 | 4 | 5 | 6 | 7 | 8 | 9 | 10 |\n",
    "|:----------------:|:-:|:-:|:-:|:-:|:-:|:-:|:-:|:-:|:-:|:-:|:--:|\n",
    "| 实验次数      | 0 | 1 | 6 | 7 | 23 | 26 | 21 | 12 | 3 | 1 | 0 |\n",
    "\n",
    "tips: 变量X为每次实验中拿出白球的个数, 且X服从二项分布Bin(x|10, p).\n",
    "\n",
    "\n",
    "</font>"
   ]
  },
  {
   "cell_type": "markdown",
   "metadata": {},
   "source": [
    "<script type=\"text/javascript\" src=\"http://cdn.mathjax.org/mathjax/latest/MathJax.js?config=default\"></script><font size=4>\n",
    "\n",
    "解:\n",
    "\n",
    "x={每次拿出白球的个数}\n",
    "\n",
    "$L(p)=P(x_1;p)P(x_2;p)\\cdots P(x_10;p)$\n",
    "\n",
    "$={[p^1{(1-p)}^9]}^1{[p^2{(1-p)}^8]}^6{[p^3{(1-p)}^7]}^7{[p^4{(1-p)}^6]}^{23}{[p^5{(1-p)}^5]}^{26}{[p^6{(1-p)}^4]}^{21}{[p^7{(1-p)}^3]}^{12}{[p^8{(1-p)}^2]}^3{[p^9{(1-p)}^1]}^1$\n",
    "\n",
    "$=p^{499}{(1-p)}^{501}$\n",
    "\n",
    "$ln L(p)=499lnp + 501 ln(1-p)$\n",
    "\n",
    "令$\\frac{\\partial lnL(p)}{p}= \\frac{499}{p} - \\frac{501}{1-p} = 0$\n",
    "\n",
    "解得$\\hat{p} = 0.499$\n",
    "\n",
    "由于$\\frac{{\\partial}^2 ln L(p)}{\\partial{p}^2} = -\\frac{499}{p^2}-\\frac{501}{{(1-p)}^2} < 0$ \n",
    "\n",
    "所以$\\hat{p}$是极大值点，白球最可能占的比例是0.499"
   ]
  },
  {
   "cell_type": "markdown",
   "metadata": {},
   "source": [
    "遇到不会输入的数学符号, 可以参考《LATEX数学符号表.pdf》文献中的说明, Markdown的公式输入与Latex相类似, 现在多掌握一下Markdown的公式输入, 对你以后的Latex写作是很有帮助."
   ]
  },
  {
   "cell_type": "markdown",
   "metadata": {},
   "source": [
    "参考文献:\n",
    "\n",
    "[1]茆诗松, 程依明, 濮晓龙, 等. 概率论与数理统计教程 (第二版). 北京: 高等教育出版社, 2011."
   ]
  },
  {
   "cell_type": "code",
   "execution_count": null,
   "metadata": {
    "collapsed": true
   },
   "outputs": [],
   "source": []
  },
  {
   "cell_type": "markdown",
   "metadata": {},
   "source": [
    "如果你有什么疑问或者收获, 你可以在这里记录下来.\n",
    "###"
   ]
  },
  {
   "cell_type": "code",
   "execution_count": null,
   "metadata": {
    "collapsed": true
   },
   "outputs": [],
   "source": []
  }
 ],
 "metadata": {
  "kernelspec": {
   "display_name": "Python 3",
   "language": "python",
   "name": "python3"
  },
  "language_info": {
   "codemirror_mode": {
    "name": "ipython",
    "version": 3
   },
   "file_extension": ".py",
   "mimetype": "text/x-python",
   "name": "python",
   "nbconvert_exporter": "python",
   "pygments_lexer": "ipython3",
   "version": "3.6.1"
  }
 },
 "nbformat": 4,
 "nbformat_minor": 2
}
